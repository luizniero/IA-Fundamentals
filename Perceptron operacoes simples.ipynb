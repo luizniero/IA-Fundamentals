{
 "cells": [
  {
   "cell_type": "markdown",
   "id": "2eba6637-8365-454d-8c9b-df68be8e67ef",
   "metadata": {},
   "source": [
    "#### Atividade1 : Implementando um Perceptron\n",
    "\n",
    "Discente: Luiz Henrique Pereira Niero\n",
    "Docente: Prof. Dr. LucasC. Ribas\n",
    "PPGCC - Unesp - 2025\n",
    "Disciplina: Rdes Neurais Artificiais"
   ]
  },
  {
   "cell_type": "code",
   "execution_count": 97,
   "id": "99fe7282-ff1f-4636-a123-f23a41169dfd",
   "metadata": {},
   "outputs": [],
   "source": [
    "import pandas as pd\n",
    "import numpy as np\n",
    "import random"
   ]
  },
  {
   "cell_type": "code",
   "execution_count": 98,
   "id": "4837208d-0078-48f3-8c85-f37bc2354630",
   "metadata": {},
   "outputs": [],
   "source": [
    "dataset_treinamento = 'datasets\\\\train_dataset1.csv'\n",
    "dataset_testes = 'datasets\\\\test_dataset1.csv'\n",
    "\n",
    "df_train_loaded = pd.read_csv(dataset_treinamento)\n",
    "df_test_loaded = pd.read_csv(dataset_testes)\n",
    "\n",
    "x_train = df_train_loaded.drop('label', axis=1).values\n",
    "y_train = df_train_loaded['label'].values\n",
    "\n",
    "x_test = df_test_loaded.drop('label', axis=1).values\n",
    "y_test = df_test_loaded['label'].values"
   ]
  },
  {
   "cell_type": "code",
   "execution_count": 104,
   "id": "dc83b13f-613e-463e-8fb4-3a427163f8cc",
   "metadata": {},
   "outputs": [],
   "source": [
    "class Perceptron:\n",
    "    def __init__ (self, x_train, y_train):\n",
    "        self.x_train = x_train\n",
    "        self.y_train = y_train\n",
    "        self.quantidade_elementos_treino = x_train.shape[0]\n",
    "        self.quantidade_atributos = x_train.shape[1] \n",
    "        self.w = np.random.uniform(0, 0.2, size=self.quantidade_atributos)\n",
    "        self.limiar = random.uniform(0, 0.2) # ponto flutuante entre 0 e 0.2\n",
    "        self.tx_aprendizagem = 0.1\n",
    "        self.qtde_epocas = 50\n",
    "        self.erros = 0\n",
    "        self.w_epocas = []\n",
    "        self.bias_epocas = []\n",
    "        self.erros_epocas = []\n",
    "\n",
    "    # Ajusta os pesos para uma linha da matriz de entrada (aqui uma linha corresponde a um elemento x do conjunto X de treinamento)\n",
    "    # Retorna 1 se a predição foi correta e 0 se a predição foi errada\n",
    "    def treina_elemento(self, indice):\n",
    "        gux = 0\n",
    "        wx = 0\n",
    "        y = self.y_train[indice]\n",
    "    \n",
    "        # Itera por cada elemento i de xi e wi e faz a soma em wx.\n",
    "        for i in range(self.quantidade_atributos):\n",
    "            wxi = self.x_train[indice][i] * self.w[i]\n",
    "            wx += wxi\n",
    "    \n",
    "        wx = wx + self.limiar\n",
    "        \n",
    "        if wx >= 0:\n",
    "            gux = 1\n",
    "        else:\n",
    "            gux = -1\n",
    "    \n",
    "        if y == gux:\n",
    "            return 1\n",
    "        else:\n",
    "            diferenca = y - gux\n",
    "            ajuste_base = self.tx_aprendizagem * diferenca\n",
    "\n",
    "            # Ajusta cada elemento do vetor W\n",
    "            for j in range (self.quantidade_atributos):\n",
    "                self.w[j] = self.w[j] + ajuste_base * self.x_train[indice][j]\n",
    "            \n",
    "            # Ajusta o bias\n",
    "            self.limiar = self.limiar + ajuste_base\n",
    "            return 0\n",
    "\n",
    "\n",
    "    def treina_epoca(self, epoca):\n",
    "        acertos_da_epoca = 0\n",
    "        erros_da_epoca = 0\n",
    "        \n",
    "        for i in range(self.quantidade_elementos_treino):\n",
    "            acertos_da_epoca += self.treina_elemento(i)\n",
    "\n",
    "        # salvando os pesos da época.\n",
    "        self.w_epocas.append(self.w.copy())\n",
    "        self.bias_epocas.append(self.limiar.copy())\n",
    "        erros_da_epoca = self.quantidade_elementos_treino - acertos_da_epoca\n",
    "        self.erros_epocas.append(erros_da_epoca)\n",
    "        \n",
    "        self.erros = erros_da_epoca\n",
    "        #print(f\"Época {epoca}. Acertos: {acertos_da_epoca} Erros: {erros_da_epoca}. Taxa de acertos: {acertos_da_epoca / self.quantidade_elementos_treino}\")          \n",
    "\n",
    "\n",
    "    def treina(self):\n",
    "        for epoca in range(self.qtde_epocas):\n",
    "            self.treina_epoca(epoca)"
   ]
  },
  {
   "cell_type": "code",
   "execution_count": 105,
   "id": "277c9236-778a-4fdc-bcb2-eaa56c31798f",
   "metadata": {},
   "outputs": [],
   "source": [
    "# Adiciono o BIAS como um dos elementos do conjunto de treinamento"
   ]
  },
  {
   "cell_type": "code",
   "execution_count": 106,
   "id": "8cf158a9-8523-4c02-b04b-ce9a098883e5",
   "metadata": {},
   "outputs": [
    {
     "name": "stdout",
     "output_type": "stream",
     "text": [
      "\n",
      "\n",
      " --- Resultados do treinamento --- \n",
      "Melhor época: 11\n",
      "Quantidade de erros: 3\n",
      "Taxa de acertos da melhor época: 0.9785714285714285\n",
      "Melhores pesos: [-1.34779788  1.29381373]\n",
      "Melhor bias: 0.730422425004934\n"
     ]
    }
   ],
   "source": [
    "# Recebe um vetor X e o valor previsto Y e atualiza os parâmetros W e Bias.\n",
    "perceptron = Perceptron(x_train, y_train)\n",
    "perceptron.treina()\n",
    "\n",
    "print(\"\\r\\n\\r\\n --- Resultados do treinamento --- \")\n",
    "melhor_epoca =  perceptron.erros_epocas.index(min(perceptron.erros_epocas))\n",
    "melhor_w = perceptron.w_epocas[melhor_epoca]\n",
    "melhor_bias = perceptron.bias_epocas[melhor_epoca]\n",
    "erros_melhor_epoca = perceptron.erros_epocas[melhor_epoca]\n",
    "tx_acerto_melhor_epoca = (perceptron.quantidade_elementos_treino - erros_melhor_epoca) / perceptron.quantidade_elementos_treino\n",
    "\n",
    "print(f\"Melhor época: {melhor_epoca}\")\n",
    "print(f\"Quantidade de erros: {erros_melhor_epoca}\")\n",
    "\n",
    "print(f\"Taxa de acertos da melhor época: {tx_acerto_melhor_epoca}\")\n",
    "print(f\"Melhores pesos: {melhor_w}\")\n",
    "print(f\"Melhor bias: {melhor_bias}\")"
   ]
  },
  {
   "cell_type": "code",
   "execution_count": null,
   "id": "7c309363-4dfc-4d00-9c8b-dce7b087e632",
   "metadata": {},
   "outputs": [],
   "source": []
  }
 ],
 "metadata": {
  "kernelspec": {
   "display_name": "Python 3 (ipykernel)",
   "language": "python",
   "name": "python3"
  },
  "language_info": {
   "codemirror_mode": {
    "name": "ipython",
    "version": 3
   },
   "file_extension": ".py",
   "mimetype": "text/x-python",
   "name": "python",
   "nbconvert_exporter": "python",
   "pygments_lexer": "ipython3",
   "version": "3.11.5"
  }
 },
 "nbformat": 4,
 "nbformat_minor": 5
}
